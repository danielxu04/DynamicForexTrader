{
 "cells": [
  {
   "cell_type": "code",
   "execution_count": null,
   "metadata": {},
   "outputs": [],
   "source": [
    "from OptimizedDNN import *\n",
    "import pickle\n",
    "import pandas as pd\n",
    "import numpy as np\n",
    "import matplotlib.pyplot as plt\n",
    "import random\n",
    "import tensorflow as tf\n",
    "from keras.layers import Dense, Dropout\n",
    "from keras.models import Sequential\n",
    "from keras.regularizers import l1, l2\n",
    "from keras.optimizers import Adam\n",
    "from sklearn.model_selection import GridSearchCV\n",
    "from sklearn.model_selection import train_test_split\n",
    "from sklearn.model_selection import StratifiedKFold\n",
    "from sklearn.preprocessing import LabelEncoder"
   ]
  },
  {
   "cell_type": "code",
   "execution_count": null,
   "metadata": {},
   "outputs": [],
   "source": [
    "data = pd.read_csv('../data/EURUSD_HOUR.csv', parse_dates=['time'], index_col='time')\n",
    "dataset = data.rename(columns={'price': 'Price'})\n",
    "print(dataset)"
   ]
  },
  {
   "cell_type": "code",
   "execution_count": null,
   "metadata": {},
   "outputs": [],
   "source": [
    "df = dataset.copy()\n",
    "WINDOW = 50\n",
    "FAST_SMA = 75\n",
    "SLOW_SMA = 150\n",
    "FAST_EMA = 12\n",
    "SLOW_EMA = 26\n",
    "SIGNAL_EMA = 9\n",
    "RSI_WINDOW = 14\n",
    "\n",
    "# Log Returns\n",
    "df['Returns'] = np.log(df['Price'] / df['Price'].shift(1))\n",
    "# Direction for class weight balancing to eliminate buy bias\n",
    "df['Direction'] = np.where(df['Returns'] > 0, 'buy', 'sell')\n",
    "# MACD Growth Indicator\n",
    "macd = df['Price'].ewm(span=FAST_EMA, adjust=False).mean() - df['Price'].ewm(span=SLOW_EMA, adjust=False).mean()\n",
    "signal = macd.ewm(span=SIGNAL_EMA, adjust=False).mean()\n",
    "df['MACD'] = macd - signal\n",
    "# SMA Crossover with 75-150 Fast SMA-Slow SMA split\n",
    "df['SMA Crossover'] = df['Price'].rolling(FAST_SMA).mean() - df['Price'].rolling(SLOW_SMA).mean()\n",
    "# Mean Reversion (similar to Bollinger Bands) with 50-period window\n",
    "df['Mean Reversion'] = (df['Price'] - df['Price'].rolling(WINDOW).mean()) / df['Price'].rolling(WINDOW).std()\n",
    "# Rolling Min/Max normalization with current price\n",
    "df['Rolling Min'] = (df['Price'].rolling(WINDOW).min() / df['Price']) - 1\n",
    "df['Rolling Max'] = (df['Price'].rolling(WINDOW).max() / df['Price']) - 1\n",
    "# Momentum\n",
    "change = df['Price'].diff()\n",
    "df['RSI'] = 100 - (100 / (1 + (change.mask(change < 0, 0.0).rolling(RSI_WINDOW).mean() / -change.mask(change > 0, -0.0).rolling(RSI_WINDOW).mean())))\n",
    "# Volatility\n",
    "df['Volatility'] = df['Returns'].rolling(WINDOW).std()"
   ]
  },
  {
   "cell_type": "code",
   "execution_count": null,
   "metadata": {},
   "outputs": [],
   "source": [
    "encoder = LabelEncoder()\n",
    "df['Direction'] = encoder.fit_transform(df['Direction'])"
   ]
  },
  {
   "cell_type": "code",
   "execution_count": null,
   "metadata": {},
   "outputs": [],
   "source": [
    "df.dropna(inplace=True)\n",
    "df"
   ]
  },
  {
   "cell_type": "code",
   "execution_count": null,
   "metadata": {},
   "outputs": [],
   "source": [
    "lags = 8\n",
    "columns = []\n",
    "features = ['Returns', 'Direction', 'MACD', 'SMA Crossover', 'Mean Reversion', 'Rolling Min', 'Rolling Max', 'RSI', 'Volatility']\n",
    "\n",
    "for feature in features:\n",
    "    for lag in range(1, lags + 1):\n",
    "        column = '{}_lag_{}'.format(feature, lag)\n",
    "        df[column] = df[feature].shift(lag)\n",
    "        columns.append(column)\n",
    "df.dropna(inplace=True)\n",
    "df"
   ]
  },
  {
   "cell_type": "code",
   "execution_count": null,
   "metadata": {},
   "outputs": [],
   "source": [
    "split = int(len(df) * 0.8)\n",
    "training_set = df.iloc[:split].copy()\n",
    "test_set = df.iloc[split:].copy()\n",
    "\n",
    "mu = training_set.mean()\n",
    "sigma = training_set.std()\n",
    "standardized_training_set = (training_set - mu) / sigma\n",
    "\n",
    "test_mu = test_set.mean()\n",
    "test_sigma = test_set.std()\n",
    "standardized_test_set = (test_set - test_mu) / test_sigma\n",
    "\n",
    "X_train = standardized_training_set[columns]\n",
    "X_test = standardized_test_set[columns]\n",
    "y_train = training_set['Direction']\n",
    "y_test = test_set['Direction']\n",
    "\n",
    "y_train"
   ]
  },
  {
   "cell_type": "code",
   "execution_count": null,
   "metadata": {},
   "outputs": [],
   "source": [
    "param_grid = {\n",
    "    'hl': [1, 2, 3, 4, 5],\n",
    "    'hu': [25, 50, 100, 150],\n",
    "    'dropout': [True, False],\n",
    "    'rate': [0.1, 0.2, 0.3, 0.4, 0.5],\n",
    "    'regularize': [True, False],\n",
    "    'reg': [l1(0.0001), l2(0.0001)],\n",
    "}"
   ]
  },
  {
   "cell_type": "code",
   "execution_count": null,
   "metadata": {},
   "outputs": [],
   "source": [
    "grid_search = GridSearchCV(\n",
    "    estimator=create_keras_model(input_dim=X_train.shape[1]),\n",
    "    param_grid=param_grid,\n",
    "    cv=StratifiedKFold(n_splits=3),  # Use StratifiedKFold since it's a classification task\n",
    "    scoring='accuracy',\n",
    "    verbose=1,\n",
    "    n_jobs=-1\n",
    ")"
   ]
  },
  {
   "cell_type": "code",
   "execution_count": null,
   "metadata": {},
   "outputs": [],
   "source": [
    "grid_search.fit(X_train, y_train)"
   ]
  },
  {
   "cell_type": "code",
   "execution_count": null,
   "metadata": {},
   "outputs": [],
   "source": [
    "best_params = grid_search.best_params_"
   ]
  },
  {
   "cell_type": "code",
   "execution_count": null,
   "metadata": {},
   "outputs": [],
   "source": [
    "accuracy = best_model.score(X_test, y_test)\n",
    "print(\"Best Parameters:\", best_params)"
   ]
  },
  {
   "cell_type": "code",
   "execution_count": null,
   "metadata": {},
   "outputs": [],
   "source": []
  }
 ],
 "metadata": {
  "kernelspec": {
   "display_name": ".venv",
   "language": "python",
   "name": "python3"
  },
  "language_info": {
   "codemirror_mode": {
    "name": "ipython",
    "version": 3
   },
   "file_extension": ".py",
   "mimetype": "text/x-python",
   "name": "python",
   "nbconvert_exporter": "python",
   "pygments_lexer": "ipython3",
   "version": "3.11.4"
  },
  "orig_nbformat": 4
 },
 "nbformat": 4,
 "nbformat_minor": 2
}
