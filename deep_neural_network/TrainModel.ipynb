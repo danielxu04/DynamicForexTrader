{
 "cells": [
  {
   "cell_type": "markdown",
   "metadata": {},
   "source": [
    "# Training DNN Model"
   ]
  },
  {
   "cell_type": "markdown",
   "metadata": {},
   "source": [
    "In this notebook, we are going to train our DNN Model with historical EUR/USD data from May 2015 - Aug 2023. "
   ]
  },
  {
   "cell_type": "code",
   "execution_count": 1,
   "metadata": {},
   "outputs": [],
   "source": [
    "from DNNModel import *\n",
    "import pickle\n",
    "import numpy as np\n",
    "import pandas as pd\n",
    "import matplotlib.pyplot as plt"
   ]
  },
  {
   "cell_type": "code",
   "execution_count": 2,
   "metadata": {},
   "outputs": [
    {
     "name": "stdout",
     "output_type": "stream",
     "text": [
      "                       Price\n",
      "time                        \n",
      "2015-05-15 13:00:00  1.13546\n",
      "2015-05-15 14:00:00  1.14378\n",
      "2015-05-15 15:00:00  1.14282\n",
      "2015-05-15 16:00:00  1.14320\n",
      "2015-05-15 17:00:00  1.14368\n",
      "...                      ...\n",
      "2023-08-01 10:00:00  1.09822\n",
      "2023-08-01 11:00:00  1.09756\n",
      "2023-08-01 12:00:00  1.09565\n",
      "2023-08-01 13:00:00  1.09752\n",
      "2023-08-01 13:00:00  1.09753\n",
      "\n",
      "[51790 rows x 1 columns]\n"
     ]
    }
   ],
   "source": [
    "data = pd.read_csv('../data/EURUSD_HOUR.csv', parse_dates=['time'], index_col='time')\n",
    "dataset = data.rename(columns={'price': 'Price'})\n",
    "print(dataset)"
   ]
  },
  {
   "cell_type": "markdown",
   "metadata": {},
   "source": [
    "Above we have parsed the dataset into a DataFrame, setting the index as time. As we can see from the head/tail of the dataset, our dataset contains 51790 entries, ranging from 2015-05-15 to 2023-08-01 with a 1-hour granularity."
   ]
  },
  {
   "cell_type": "markdown",
   "metadata": {},
   "source": [
    "### Features"
   ]
  },
  {
   "cell_type": "code",
   "execution_count": 3,
   "metadata": {},
   "outputs": [],
   "source": [
    "df = dataset.copy()\n",
    "WINDOW = 50\n",
    "FAST_SMA = 75\n",
    "SLOW_SMA = 150\n",
    "FAST_EMA = 12\n",
    "SLOW_EMA = 26\n",
    "SIGNAL_EMA = 9\n",
    "RSI_WINDOW = 14\n",
    "\n",
    "# Log Returns\n",
    "df['Returns'] = np.log(df['Price'] / df['Price'].shift(1))\n",
    "# Direction for class weight balancing to eliminate buy bias\n",
    "df['Direction'] = np.where(df['Returns'] > 0, 1, 0)\n",
    "# MACD Growth Indicator\n",
    "macd = df['Price'].ewm(span=FAST_EMA, adjust=False).mean() - df['Price'].ewm(span=SLOW_EMA, adjust=False).mean()\n",
    "signal = macd.ewm(span=SIGNAL_EMA, adjust=False).mean()\n",
    "df['MACD'] = macd - signal\n",
    "# SMA Crossover with 75-150 Fast SMA-Slow SMA split\n",
    "df['SMA Crossover'] = df['Price'].rolling(FAST_SMA).mean() - df['Price'].rolling(SLOW_SMA).mean()\n",
    "# Mean Reversion (similar to Bollinger Bands) with 50-period window\n",
    "df['Mean Reversion'] = (df['Price'] - df['Price'].rolling(WINDOW).mean()) / df['Price'].rolling(WINDOW).std()\n",
    "# Rolling Min/Max normalization with current price\n",
    "df['Rolling Min'] = (df['Price'].rolling(WINDOW).min() / df['Price']) - 1\n",
    "df['Rolling Max'] = (df['Price'].rolling(WINDOW).max() / df['Price']) - 1\n",
    "# Momentum\n",
    "df['Momentum'] = df['Returns'].rolling(WINDOW).mean()\n",
    "change = df['Price'].diff()\n",
    "df['RSI'] = 100 - (100 / (1 + (change.mask(change < 0, 0.0).rolling(RSI_WINDOW).mean() / -change.mask(change > 0, -0.0).rolling(RSI_WINDOW).mean())))\n",
    "# Volatility\n",
    "df['Volatility'] = df['Returns'].rolling(WINDOW).std()\n"
   ]
  },
  {
   "cell_type": "code",
   "execution_count": 4,
   "metadata": {},
   "outputs": [
    {
     "data": {
      "text/html": [
       "<div>\n",
       "<style scoped>\n",
       "    .dataframe tbody tr th:only-of-type {\n",
       "        vertical-align: middle;\n",
       "    }\n",
       "\n",
       "    .dataframe tbody tr th {\n",
       "        vertical-align: top;\n",
       "    }\n",
       "\n",
       "    .dataframe thead th {\n",
       "        text-align: right;\n",
       "    }\n",
       "</style>\n",
       "<table border=\"1\" class=\"dataframe\">\n",
       "  <thead>\n",
       "    <tr style=\"text-align: right;\">\n",
       "      <th></th>\n",
       "      <th>Price</th>\n",
       "      <th>Returns</th>\n",
       "      <th>Direction</th>\n",
       "      <th>MACD</th>\n",
       "      <th>SMA Crossover</th>\n",
       "      <th>Mean Reversion</th>\n",
       "      <th>Rolling Min</th>\n",
       "      <th>Rolling Max</th>\n",
       "      <th>Momentum</th>\n",
       "      <th>RSI</th>\n",
       "      <th>Volatility</th>\n",
       "    </tr>\n",
       "    <tr>\n",
       "      <th>time</th>\n",
       "      <th></th>\n",
       "      <th></th>\n",
       "      <th></th>\n",
       "      <th></th>\n",
       "      <th></th>\n",
       "      <th></th>\n",
       "      <th></th>\n",
       "      <th></th>\n",
       "      <th></th>\n",
       "      <th></th>\n",
       "      <th></th>\n",
       "    </tr>\n",
       "  </thead>\n",
       "  <tbody>\n",
       "    <tr>\n",
       "      <th>2015-05-25 16:00:00</th>\n",
       "      <td>1.09854</td>\n",
       "      <td>0.001330</td>\n",
       "      <td>1</td>\n",
       "      <td>0.000466</td>\n",
       "      <td>-0.010037</td>\n",
       "      <td>-0.937949</td>\n",
       "      <td>-0.001329</td>\n",
       "      <td>0.018861</td>\n",
       "      <td>-0.000243</td>\n",
       "      <td>48.902196</td>\n",
       "      <td>0.001643</td>\n",
       "    </tr>\n",
       "    <tr>\n",
       "      <th>2015-05-25 17:00:00</th>\n",
       "      <td>1.09747</td>\n",
       "      <td>-0.000974</td>\n",
       "      <td>0</td>\n",
       "      <td>0.000457</td>\n",
       "      <td>-0.009924</td>\n",
       "      <td>-1.037918</td>\n",
       "      <td>-0.000355</td>\n",
       "      <td>0.019855</td>\n",
       "      <td>-0.000274</td>\n",
       "      <td>44.183950</td>\n",
       "      <td>0.001642</td>\n",
       "    </tr>\n",
       "    <tr>\n",
       "      <th>2015-05-25 18:00:00</th>\n",
       "      <td>1.09794</td>\n",
       "      <td>0.000428</td>\n",
       "      <td>1</td>\n",
       "      <td>0.000479</td>\n",
       "      <td>-0.009777</td>\n",
       "      <td>-0.937183</td>\n",
       "      <td>-0.000783</td>\n",
       "      <td>0.019418</td>\n",
       "      <td>-0.000277</td>\n",
       "      <td>47.690941</td>\n",
       "      <td>0.001641</td>\n",
       "    </tr>\n",
       "    <tr>\n",
       "      <th>2015-05-25 19:00:00</th>\n",
       "      <td>1.09798</td>\n",
       "      <td>0.000036</td>\n",
       "      <td>1</td>\n",
       "      <td>0.000492</td>\n",
       "      <td>-0.009641</td>\n",
       "      <td>-0.895203</td>\n",
       "      <td>-0.000820</td>\n",
       "      <td>0.019381</td>\n",
       "      <td>-0.000254</td>\n",
       "      <td>47.032374</td>\n",
       "      <td>0.001637</td>\n",
       "    </tr>\n",
       "    <tr>\n",
       "      <th>2015-05-25 20:00:00</th>\n",
       "      <td>1.09775</td>\n",
       "      <td>-0.000209</td>\n",
       "      <td>0</td>\n",
       "      <td>0.000480</td>\n",
       "      <td>-0.009522</td>\n",
       "      <td>-0.889358</td>\n",
       "      <td>-0.000610</td>\n",
       "      <td>0.019595</td>\n",
       "      <td>-0.000280</td>\n",
       "      <td>36.050157</td>\n",
       "      <td>0.001625</td>\n",
       "    </tr>\n",
       "    <tr>\n",
       "      <th>...</th>\n",
       "      <td>...</td>\n",
       "      <td>...</td>\n",
       "      <td>...</td>\n",
       "      <td>...</td>\n",
       "      <td>...</td>\n",
       "      <td>...</td>\n",
       "      <td>...</td>\n",
       "      <td>...</td>\n",
       "      <td>...</td>\n",
       "      <td>...</td>\n",
       "      <td>...</td>\n",
       "    </tr>\n",
       "    <tr>\n",
       "      <th>2023-08-01 10:00:00</th>\n",
       "      <td>1.09822</td>\n",
       "      <td>0.000619</td>\n",
       "      <td>1</td>\n",
       "      <td>-0.000119</td>\n",
       "      <td>-0.003103</td>\n",
       "      <td>-1.479394</td>\n",
       "      <td>-0.000783</td>\n",
       "      <td>0.005117</td>\n",
       "      <td>0.000041</td>\n",
       "      <td>37.888199</td>\n",
       "      <td>0.000724</td>\n",
       "    </tr>\n",
       "    <tr>\n",
       "      <th>2023-08-01 11:00:00</th>\n",
       "      <td>1.09756</td>\n",
       "      <td>-0.000601</td>\n",
       "      <td>0</td>\n",
       "      <td>-0.000117</td>\n",
       "      <td>-0.003214</td>\n",
       "      <td>-1.851224</td>\n",
       "      <td>-0.000073</td>\n",
       "      <td>0.005722</td>\n",
       "      <td>0.000004</td>\n",
       "      <td>33.618234</td>\n",
       "      <td>0.000707</td>\n",
       "    </tr>\n",
       "    <tr>\n",
       "      <th>2023-08-01 12:00:00</th>\n",
       "      <td>1.09565</td>\n",
       "      <td>-0.001742</td>\n",
       "      <td>0</td>\n",
       "      <td>-0.000224</td>\n",
       "      <td>-0.003375</td>\n",
       "      <td>-2.662682</td>\n",
       "      <td>0.000000</td>\n",
       "      <td>0.007475</td>\n",
       "      <td>-0.000068</td>\n",
       "      <td>24.221453</td>\n",
       "      <td>0.000700</td>\n",
       "    </tr>\n",
       "    <tr>\n",
       "      <th>2023-08-01 13:00:00</th>\n",
       "      <td>1.09752</td>\n",
       "      <td>0.001705</td>\n",
       "      <td>1</td>\n",
       "      <td>-0.000152</td>\n",
       "      <td>-0.003527</td>\n",
       "      <td>-1.623451</td>\n",
       "      <td>-0.001704</td>\n",
       "      <td>0.005758</td>\n",
       "      <td>-0.000062</td>\n",
       "      <td>39.306931</td>\n",
       "      <td>0.000713</td>\n",
       "    </tr>\n",
       "    <tr>\n",
       "      <th>2023-08-01 13:00:00</th>\n",
       "      <td>1.09753</td>\n",
       "      <td>0.000009</td>\n",
       "      <td>1</td>\n",
       "      <td>-0.000090</td>\n",
       "      <td>-0.003674</td>\n",
       "      <td>-1.544744</td>\n",
       "      <td>-0.001713</td>\n",
       "      <td>0.005749</td>\n",
       "      <td>-0.000062</td>\n",
       "      <td>42.658092</td>\n",
       "      <td>0.000713</td>\n",
       "    </tr>\n",
       "  </tbody>\n",
       "</table>\n",
       "<p>51641 rows × 11 columns</p>\n",
       "</div>"
      ],
      "text/plain": [
       "                       Price   Returns  Direction      MACD  SMA Crossover  \\\n",
       "time                                                                         \n",
       "2015-05-25 16:00:00  1.09854  0.001330          1  0.000466      -0.010037   \n",
       "2015-05-25 17:00:00  1.09747 -0.000974          0  0.000457      -0.009924   \n",
       "2015-05-25 18:00:00  1.09794  0.000428          1  0.000479      -0.009777   \n",
       "2015-05-25 19:00:00  1.09798  0.000036          1  0.000492      -0.009641   \n",
       "2015-05-25 20:00:00  1.09775 -0.000209          0  0.000480      -0.009522   \n",
       "...                      ...       ...        ...       ...            ...   \n",
       "2023-08-01 10:00:00  1.09822  0.000619          1 -0.000119      -0.003103   \n",
       "2023-08-01 11:00:00  1.09756 -0.000601          0 -0.000117      -0.003214   \n",
       "2023-08-01 12:00:00  1.09565 -0.001742          0 -0.000224      -0.003375   \n",
       "2023-08-01 13:00:00  1.09752  0.001705          1 -0.000152      -0.003527   \n",
       "2023-08-01 13:00:00  1.09753  0.000009          1 -0.000090      -0.003674   \n",
       "\n",
       "                     Mean Reversion  Rolling Min  Rolling Max  Momentum  \\\n",
       "time                                                                      \n",
       "2015-05-25 16:00:00       -0.937949    -0.001329     0.018861 -0.000243   \n",
       "2015-05-25 17:00:00       -1.037918    -0.000355     0.019855 -0.000274   \n",
       "2015-05-25 18:00:00       -0.937183    -0.000783     0.019418 -0.000277   \n",
       "2015-05-25 19:00:00       -0.895203    -0.000820     0.019381 -0.000254   \n",
       "2015-05-25 20:00:00       -0.889358    -0.000610     0.019595 -0.000280   \n",
       "...                             ...          ...          ...       ...   \n",
       "2023-08-01 10:00:00       -1.479394    -0.000783     0.005117  0.000041   \n",
       "2023-08-01 11:00:00       -1.851224    -0.000073     0.005722  0.000004   \n",
       "2023-08-01 12:00:00       -2.662682     0.000000     0.007475 -0.000068   \n",
       "2023-08-01 13:00:00       -1.623451    -0.001704     0.005758 -0.000062   \n",
       "2023-08-01 13:00:00       -1.544744    -0.001713     0.005749 -0.000062   \n",
       "\n",
       "                           RSI  Volatility  \n",
       "time                                        \n",
       "2015-05-25 16:00:00  48.902196    0.001643  \n",
       "2015-05-25 17:00:00  44.183950    0.001642  \n",
       "2015-05-25 18:00:00  47.690941    0.001641  \n",
       "2015-05-25 19:00:00  47.032374    0.001637  \n",
       "2015-05-25 20:00:00  36.050157    0.001625  \n",
       "...                        ...         ...  \n",
       "2023-08-01 10:00:00  37.888199    0.000724  \n",
       "2023-08-01 11:00:00  33.618234    0.000707  \n",
       "2023-08-01 12:00:00  24.221453    0.000700  \n",
       "2023-08-01 13:00:00  39.306931    0.000713  \n",
       "2023-08-01 13:00:00  42.658092    0.000713  \n",
       "\n",
       "[51641 rows x 11 columns]"
      ]
     },
     "execution_count": 4,
     "metadata": {},
     "output_type": "execute_result"
    }
   ],
   "source": [
    "df.dropna(inplace=True)\n",
    "df"
   ]
  },
  {
   "cell_type": "markdown",
   "metadata": {},
   "source": [
    "Now that our feature engineering is complete, we can see that features include a variety of indicators, including growth, volatility, and momentum indicators. Next, we need to add feature lags."
   ]
  },
  {
   "cell_type": "markdown",
   "metadata": {},
   "source": [
    "### Feature Lags\n"
   ]
  },
  {
   "cell_type": "code",
   "execution_count": 5,
   "metadata": {},
   "outputs": [],
   "source": [
    "lags = 8\n",
    "columns = []\n",
    "features = ['Returns', 'Direction', 'MACD', 'SMA Crossover', 'Mean Reversion', 'Rolling Min', 'Rolling Max', 'Momentum', 'RSI', 'Volatility']\n",
    "\n",
    "for feature in features:\n",
    "    for lag in range(1, lags + 1):\n",
    "        column = '{}_lag_{}'.format(feature, lag)\n",
    "        df[column] = df[feature].shift(lag)\n",
    "        columns.append(column)\n",
    "df.dropna(inplace=True)"
   ]
  },
  {
   "cell_type": "markdown",
   "metadata": {},
   "source": [
    "As we have added 8 lags to our 8 features, the input layer of our Deep Neural Network now contains 64 features to predict market direction. Next, we can start to split our dataset in preparation for model training."
   ]
  },
  {
   "cell_type": "markdown",
   "metadata": {},
   "source": [
    "### Split into Train/Test Set"
   ]
  },
  {
   "cell_type": "code",
   "execution_count": 6,
   "metadata": {},
   "outputs": [],
   "source": [
    "split = int(len(df) * 0.8)\n",
    "training_set = df.iloc[:split].copy()\n",
    "test_set = df.iloc[split:].copy()"
   ]
  },
  {
   "cell_type": "markdown",
   "metadata": {},
   "source": [
    "### Feature Scaling, Standardization"
   ]
  },
  {
   "cell_type": "code",
   "execution_count": 7,
   "metadata": {},
   "outputs": [
    {
     "data": {
      "text/html": [
       "<div>\n",
       "<style scoped>\n",
       "    .dataframe tbody tr th:only-of-type {\n",
       "        vertical-align: middle;\n",
       "    }\n",
       "\n",
       "    .dataframe tbody tr th {\n",
       "        vertical-align: top;\n",
       "    }\n",
       "\n",
       "    .dataframe thead th {\n",
       "        text-align: right;\n",
       "    }\n",
       "</style>\n",
       "<table border=\"1\" class=\"dataframe\">\n",
       "  <thead>\n",
       "    <tr style=\"text-align: right;\">\n",
       "      <th></th>\n",
       "      <th>Price</th>\n",
       "      <th>Returns</th>\n",
       "      <th>Direction</th>\n",
       "      <th>MACD</th>\n",
       "      <th>SMA Crossover</th>\n",
       "      <th>Mean Reversion</th>\n",
       "      <th>Rolling Min</th>\n",
       "      <th>Rolling Max</th>\n",
       "      <th>Momentum</th>\n",
       "      <th>RSI</th>\n",
       "      <th>...</th>\n",
       "      <th>RSI_lag_7</th>\n",
       "      <th>RSI_lag_8</th>\n",
       "      <th>Volatility_lag_1</th>\n",
       "      <th>Volatility_lag_2</th>\n",
       "      <th>Volatility_lag_3</th>\n",
       "      <th>Volatility_lag_4</th>\n",
       "      <th>Volatility_lag_5</th>\n",
       "      <th>Volatility_lag_6</th>\n",
       "      <th>Volatility_lag_7</th>\n",
       "      <th>Volatility_lag_8</th>\n",
       "    </tr>\n",
       "  </thead>\n",
       "  <tbody>\n",
       "    <tr>\n",
       "      <th>count</th>\n",
       "      <td>4.130600e+04</td>\n",
       "      <td>4.130600e+04</td>\n",
       "      <td>4.130600e+04</td>\n",
       "      <td>4.130600e+04</td>\n",
       "      <td>4.130600e+04</td>\n",
       "      <td>4.130600e+04</td>\n",
       "      <td>4.130600e+04</td>\n",
       "      <td>4.130600e+04</td>\n",
       "      <td>4.130600e+04</td>\n",
       "      <td>4.130600e+04</td>\n",
       "      <td>...</td>\n",
       "      <td>4.130600e+04</td>\n",
       "      <td>4.130600e+04</td>\n",
       "      <td>4.130600e+04</td>\n",
       "      <td>4.130600e+04</td>\n",
       "      <td>4.130600e+04</td>\n",
       "      <td>4.130600e+04</td>\n",
       "      <td>4.130600e+04</td>\n",
       "      <td>4.130600e+04</td>\n",
       "      <td>4.130600e+04</td>\n",
       "      <td>4.130600e+04</td>\n",
       "    </tr>\n",
       "    <tr>\n",
       "      <th>mean</th>\n",
       "      <td>-1.606316e-15</td>\n",
       "      <td>2.945830e-18</td>\n",
       "      <td>-2.808214e-17</td>\n",
       "      <td>1.098773e-17</td>\n",
       "      <td>-1.720193e-19</td>\n",
       "      <td>-2.941529e-17</td>\n",
       "      <td>-1.862969e-16</td>\n",
       "      <td>-1.419159e-16</td>\n",
       "      <td>2.038428e-17</td>\n",
       "      <td>-3.694114e-16</td>\n",
       "      <td>...</td>\n",
       "      <td>1.137047e-16</td>\n",
       "      <td>6.046477e-17</td>\n",
       "      <td>-2.872722e-17</td>\n",
       "      <td>2.246571e-16</td>\n",
       "      <td>-2.769510e-16</td>\n",
       "      <td>-3.780983e-16</td>\n",
       "      <td>6.055078e-17</td>\n",
       "      <td>-2.322260e-17</td>\n",
       "      <td>-2.306778e-16</td>\n",
       "      <td>7.018386e-17</td>\n",
       "    </tr>\n",
       "    <tr>\n",
       "      <th>std</th>\n",
       "      <td>1.000000e+00</td>\n",
       "      <td>1.000000e+00</td>\n",
       "      <td>1.000000e+00</td>\n",
       "      <td>1.000000e+00</td>\n",
       "      <td>1.000000e+00</td>\n",
       "      <td>1.000000e+00</td>\n",
       "      <td>1.000000e+00</td>\n",
       "      <td>1.000000e+00</td>\n",
       "      <td>1.000000e+00</td>\n",
       "      <td>1.000000e+00</td>\n",
       "      <td>...</td>\n",
       "      <td>1.000000e+00</td>\n",
       "      <td>1.000000e+00</td>\n",
       "      <td>1.000000e+00</td>\n",
       "      <td>1.000000e+00</td>\n",
       "      <td>1.000000e+00</td>\n",
       "      <td>1.000000e+00</td>\n",
       "      <td>1.000000e+00</td>\n",
       "      <td>1.000000e+00</td>\n",
       "      <td>1.000000e+00</td>\n",
       "      <td>1.000000e+00</td>\n",
       "    </tr>\n",
       "    <tr>\n",
       "      <th>min</th>\n",
       "      <td>-2.297082e+00</td>\n",
       "      <td>-2.088625e+01</td>\n",
       "      <td>-9.872383e-01</td>\n",
       "      <td>-1.377070e+01</td>\n",
       "      <td>-4.386479e+00</td>\n",
       "      <td>-4.607530e+00</td>\n",
       "      <td>-9.281603e+00</td>\n",
       "      <td>-1.015874e+00</td>\n",
       "      <td>-5.500966e+00</td>\n",
       "      <td>-2.854285e+00</td>\n",
       "      <td>...</td>\n",
       "      <td>-2.854231e+00</td>\n",
       "      <td>-2.854228e+00</td>\n",
       "      <td>-1.736774e+00</td>\n",
       "      <td>-1.736771e+00</td>\n",
       "      <td>-1.736768e+00</td>\n",
       "      <td>-1.736764e+00</td>\n",
       "      <td>-1.736757e+00</td>\n",
       "      <td>-1.736751e+00</td>\n",
       "      <td>-1.736744e+00</td>\n",
       "      <td>-1.736734e+00</td>\n",
       "    </tr>\n",
       "    <tr>\n",
       "      <th>25%</th>\n",
       "      <td>-7.085598e-01</td>\n",
       "      <td>-4.047052e-01</td>\n",
       "      <td>-9.872383e-01</td>\n",
       "      <td>-5.198424e-01</td>\n",
       "      <td>-6.551521e-01</td>\n",
       "      <td>-7.863928e-01</td>\n",
       "      <td>-4.329648e-01</td>\n",
       "      <td>-7.213759e-01</td>\n",
       "      <td>-6.158568e-01</td>\n",
       "      <td>-7.400586e-01</td>\n",
       "      <td>...</td>\n",
       "      <td>-7.400708e-01</td>\n",
       "      <td>-7.400680e-01</td>\n",
       "      <td>-6.262403e-01</td>\n",
       "      <td>-6.262760e-01</td>\n",
       "      <td>-6.263113e-01</td>\n",
       "      <td>-6.263463e-01</td>\n",
       "      <td>-6.263810e-01</td>\n",
       "      <td>-6.264161e-01</td>\n",
       "      <td>-6.264512e-01</td>\n",
       "      <td>-6.264833e-01</td>\n",
       "    </tr>\n",
       "    <tr>\n",
       "      <th>50%</th>\n",
       "      <td>-1.813916e-01</td>\n",
       "      <td>-6.985392e-04</td>\n",
       "      <td>-9.872383e-01</td>\n",
       "      <td>2.488310e-02</td>\n",
       "      <td>-2.889250e-02</td>\n",
       "      <td>-1.020646e-02</td>\n",
       "      <td>2.649205e-01</td>\n",
       "      <td>-2.431701e-01</td>\n",
       "      <td>-1.369756e-02</td>\n",
       "      <td>1.865814e-03</td>\n",
       "      <td>...</td>\n",
       "      <td>1.903497e-03</td>\n",
       "      <td>1.010428e-03</td>\n",
       "      <td>-2.039489e-01</td>\n",
       "      <td>-2.039539e-01</td>\n",
       "      <td>-2.039924e-01</td>\n",
       "      <td>-2.040255e-01</td>\n",
       "      <td>-2.040339e-01</td>\n",
       "      <td>-2.040436e-01</td>\n",
       "      <td>-2.040418e-01</td>\n",
       "      <td>-2.040274e-01</td>\n",
       "    </tr>\n",
       "    <tr>\n",
       "      <th>75%</th>\n",
       "      <td>8.071584e-01</td>\n",
       "      <td>4.088925e-01</td>\n",
       "      <td>1.012902e+00</td>\n",
       "      <td>5.409123e-01</td>\n",
       "      <td>6.235705e-01</td>\n",
       "      <td>7.870434e-01</td>\n",
       "      <td>7.298309e-01</td>\n",
       "      <td>4.219302e-01</td>\n",
       "      <td>5.955342e-01</td>\n",
       "      <td>7.364866e-01</td>\n",
       "      <td>...</td>\n",
       "      <td>7.365201e-01</td>\n",
       "      <td>7.365230e-01</td>\n",
       "      <td>3.227670e-01</td>\n",
       "      <td>3.227192e-01</td>\n",
       "      <td>3.227097e-01</td>\n",
       "      <td>3.227048e-01</td>\n",
       "      <td>3.226695e-01</td>\n",
       "      <td>3.226175e-01</td>\n",
       "      <td>3.225609e-01</td>\n",
       "      <td>3.224985e-01</td>\n",
       "    </tr>\n",
       "    <tr>\n",
       "      <th>max</th>\n",
       "      <td>2.512341e+00</td>\n",
       "      <td>1.614029e+01</td>\n",
       "      <td>1.012902e+00</td>\n",
       "      <td>1.038152e+01</td>\n",
       "      <td>4.771959e+00</td>\n",
       "      <td>4.518925e+00</td>\n",
       "      <td>1.011859e+00</td>\n",
       "      <td>9.058693e+00</td>\n",
       "      <td>6.458952e+00</td>\n",
       "      <td>2.844420e+00</td>\n",
       "      <td>...</td>\n",
       "      <td>2.844442e+00</td>\n",
       "      <td>2.844444e+00</td>\n",
       "      <td>8.577658e+00</td>\n",
       "      <td>8.577305e+00</td>\n",
       "      <td>8.576952e+00</td>\n",
       "      <td>8.576588e+00</td>\n",
       "      <td>8.576213e+00</td>\n",
       "      <td>8.575835e+00</td>\n",
       "      <td>8.575455e+00</td>\n",
       "      <td>8.575067e+00</td>\n",
       "    </tr>\n",
       "  </tbody>\n",
       "</table>\n",
       "<p>8 rows × 91 columns</p>\n",
       "</div>"
      ],
      "text/plain": [
       "              Price       Returns     Direction          MACD  SMA Crossover  \\\n",
       "count  4.130600e+04  4.130600e+04  4.130600e+04  4.130600e+04   4.130600e+04   \n",
       "mean  -1.606316e-15  2.945830e-18 -2.808214e-17  1.098773e-17  -1.720193e-19   \n",
       "std    1.000000e+00  1.000000e+00  1.000000e+00  1.000000e+00   1.000000e+00   \n",
       "min   -2.297082e+00 -2.088625e+01 -9.872383e-01 -1.377070e+01  -4.386479e+00   \n",
       "25%   -7.085598e-01 -4.047052e-01 -9.872383e-01 -5.198424e-01  -6.551521e-01   \n",
       "50%   -1.813916e-01 -6.985392e-04 -9.872383e-01  2.488310e-02  -2.889250e-02   \n",
       "75%    8.071584e-01  4.088925e-01  1.012902e+00  5.409123e-01   6.235705e-01   \n",
       "max    2.512341e+00  1.614029e+01  1.012902e+00  1.038152e+01   4.771959e+00   \n",
       "\n",
       "       Mean Reversion   Rolling Min   Rolling Max      Momentum           RSI  \\\n",
       "count    4.130600e+04  4.130600e+04  4.130600e+04  4.130600e+04  4.130600e+04   \n",
       "mean    -2.941529e-17 -1.862969e-16 -1.419159e-16  2.038428e-17 -3.694114e-16   \n",
       "std      1.000000e+00  1.000000e+00  1.000000e+00  1.000000e+00  1.000000e+00   \n",
       "min     -4.607530e+00 -9.281603e+00 -1.015874e+00 -5.500966e+00 -2.854285e+00   \n",
       "25%     -7.863928e-01 -4.329648e-01 -7.213759e-01 -6.158568e-01 -7.400586e-01   \n",
       "50%     -1.020646e-02  2.649205e-01 -2.431701e-01 -1.369756e-02  1.865814e-03   \n",
       "75%      7.870434e-01  7.298309e-01  4.219302e-01  5.955342e-01  7.364866e-01   \n",
       "max      4.518925e+00  1.011859e+00  9.058693e+00  6.458952e+00  2.844420e+00   \n",
       "\n",
       "       ...     RSI_lag_7     RSI_lag_8  Volatility_lag_1  Volatility_lag_2  \\\n",
       "count  ...  4.130600e+04  4.130600e+04      4.130600e+04      4.130600e+04   \n",
       "mean   ...  1.137047e-16  6.046477e-17     -2.872722e-17      2.246571e-16   \n",
       "std    ...  1.000000e+00  1.000000e+00      1.000000e+00      1.000000e+00   \n",
       "min    ... -2.854231e+00 -2.854228e+00     -1.736774e+00     -1.736771e+00   \n",
       "25%    ... -7.400708e-01 -7.400680e-01     -6.262403e-01     -6.262760e-01   \n",
       "50%    ...  1.903497e-03  1.010428e-03     -2.039489e-01     -2.039539e-01   \n",
       "75%    ...  7.365201e-01  7.365230e-01      3.227670e-01      3.227192e-01   \n",
       "max    ...  2.844442e+00  2.844444e+00      8.577658e+00      8.577305e+00   \n",
       "\n",
       "       Volatility_lag_3  Volatility_lag_4  Volatility_lag_5  Volatility_lag_6  \\\n",
       "count      4.130600e+04      4.130600e+04      4.130600e+04      4.130600e+04   \n",
       "mean      -2.769510e-16     -3.780983e-16      6.055078e-17     -2.322260e-17   \n",
       "std        1.000000e+00      1.000000e+00      1.000000e+00      1.000000e+00   \n",
       "min       -1.736768e+00     -1.736764e+00     -1.736757e+00     -1.736751e+00   \n",
       "25%       -6.263113e-01     -6.263463e-01     -6.263810e-01     -6.264161e-01   \n",
       "50%       -2.039924e-01     -2.040255e-01     -2.040339e-01     -2.040436e-01   \n",
       "75%        3.227097e-01      3.227048e-01      3.226695e-01      3.226175e-01   \n",
       "max        8.576952e+00      8.576588e+00      8.576213e+00      8.575835e+00   \n",
       "\n",
       "       Volatility_lag_7  Volatility_lag_8  \n",
       "count      4.130600e+04      4.130600e+04  \n",
       "mean      -2.306778e-16      7.018386e-17  \n",
       "std        1.000000e+00      1.000000e+00  \n",
       "min       -1.736744e+00     -1.736734e+00  \n",
       "25%       -6.264512e-01     -6.264833e-01  \n",
       "50%       -2.040418e-01     -2.040274e-01  \n",
       "75%        3.225609e-01      3.224985e-01  \n",
       "max        8.575455e+00      8.575067e+00  \n",
       "\n",
       "[8 rows x 91 columns]"
      ]
     },
     "execution_count": 7,
     "metadata": {},
     "output_type": "execute_result"
    }
   ],
   "source": [
    "mu = training_set.mean()\n",
    "sigma = training_set.std()\n",
    "standardized_training_set = (training_set - mu) / sigma\n",
    "standardized_training_set.describe()"
   ]
  },
  {
   "cell_type": "markdown",
   "metadata": {},
   "source": [
    "After splitting our data into training/test datasets, we standardized our training set. As depicted in the table, the means of all features hover around 0, whereas the standard deviations are all equal to 1. "
   ]
  },
  {
   "cell_type": "markdown",
   "metadata": {},
   "source": [
    "### Create & Fit DNN Model"
   ]
  },
  {
   "cell_type": "code",
   "execution_count": 8,
   "metadata": {},
   "outputs": [
    {
     "data": {
      "text/plain": [
       "<keras.src.callbacks.History at 0x1a0bf04d2d0>"
      ]
     },
     "execution_count": 8,
     "metadata": {},
     "output_type": "execute_result"
    }
   ],
   "source": [
    "set_seeds(100)\n",
    "model = create_model(hl=3, hu=50, dropout=True, input_dim=len(columns))\n",
    "model.fit(x=standardized_training_set[columns], y=training_set['Direction'], epochs=225, verbose=False, validation_split=0.2, shuffle=False, class_weight=cw(training_set))"
   ]
  },
  {
   "cell_type": "code",
   "execution_count": 9,
   "metadata": {},
   "outputs": [
    {
     "name": "stdout",
     "output_type": "stream",
     "text": [
      "1291/1291 [==============================] - 2s 1ms/step - loss: 0.6771 - accuracy: 0.5789\n"
     ]
    },
    {
     "data": {
      "text/plain": [
       "[0.6770943403244019, 0.5789231657981873]"
      ]
     },
     "execution_count": 9,
     "metadata": {},
     "output_type": "execute_result"
    }
   ],
   "source": [
    "model.evaluate(standardized_training_set[columns], training_set['Direction'])"
   ]
  },
  {
   "cell_type": "code",
   "execution_count": 10,
   "metadata": {},
   "outputs": [
    {
     "name": "stdout",
     "output_type": "stream",
     "text": [
      "1291/1291 [==============================] - 2s 2ms/step\n"
     ]
    },
    {
     "data": {
      "image/png": "[encoded data removed]",
      "text/plain": [
       "<Figure size 640x480 with 1 Axes>"
      ]
     },
     "metadata": {},
     "output_type": "display_data"
    }
   ],
   "source": [
    "prediction = model.predict(standardized_training_set[columns])\n",
    "plt.hist(prediction, bins=100)\n",
    "plt.show()"
   ]
  },
  {
   "cell_type": "markdown",
   "metadata": {},
   "source": [
    "After training and fitting the model, we see that our initial accuracy is 55.45%, which ensures that our model isn't overfitted. We can probably increase the accuracy by optimizing hyperparameters.\n",
    "\n",
    "Moreover, we see that our predictions are normally distributed about 0.5, which is expected."
   ]
  },
  {
   "cell_type": "markdown",
   "metadata": {},
   "source": [
    "### Out-Sample Predictions"
   ]
  },
  {
   "cell_type": "code",
   "execution_count": 11,
   "metadata": {},
   "outputs": [
    {
     "name": "stdout",
     "output_type": "stream",
     "text": [
      "323/323 [==============================] - 0s 1ms/step - loss: 0.6957 - accuracy: 0.5129\n",
      "323/323 [==============================] - 0s 1ms/step\n"
     ]
    },
    {
     "data": {
      "text/plain": [
       "(array([  2.,   0.,   0.,   0.,   0.,   2.,   0.,   0.,   1.,   0.,   1.,\n",
       "          1.,   2.,   2.,   2.,   3.,   1.,   4.,   6.,   5.,   8.,   9.,\n",
       "         10.,   9.,  21.,  16.,  21.,  25.,  31.,  34.,  42.,  52.,  60.,\n",
       "         68.,  97.,  93., 113., 149., 164., 191., 223., 253., 267., 324.,\n",
       "        347., 361., 392., 454., 412., 389., 449., 460., 457., 458., 413.,\n",
       "        453., 397., 394., 337., 305., 299., 243., 212., 168., 123., 101.,\n",
       "         89.,  64.,  47.,  38.,  37.,  29.,  16.,  11.,  11.,  12.,   3.,\n",
       "          6.,  10.,   2.,   3.,   4.,   2.,   1.,   0.,   0.,   1.,   0.,\n",
       "          1.,   1.,   1.,   0.,   1.,   0.,   0.,   0.,   0.,   0.,   0.,\n",
       "          1.]),\n",
       " array([0.19793543, 0.20362611, 0.20931681, 0.21500748, 0.22069818,\n",
       "        0.22638886, 0.23207955, 0.23777023, 0.24346091, 0.2491516 ,\n",
       "        0.25484228, 0.26053298, 0.26622367, 0.27191433, 0.27760503,\n",
       "        0.28329572, 0.28898638, 0.29467708, 0.30036777, 0.30605844,\n",
       "        0.31174913, 0.31743982, 0.32313052, 0.32882118, 0.33451188,\n",
       "        0.34020257, 0.34589323, 0.35158393, 0.35727462, 0.36296532,\n",
       "        0.36865598, 0.37434667, 0.38003737, 0.38572803, 0.39141873,\n",
       "        0.39710942, 0.40280011, 0.40849078, 0.41418147, 0.41987216,\n",
       "        0.42556283, 0.43125352, 0.43694422, 0.44263491, 0.44832557,\n",
       "        0.45401627, 0.45970696, 0.46539763, 0.47108832, 0.47677901,\n",
       "        0.48246968, 0.48816037, 0.49385107, 0.49954176, 0.50523245,\n",
       "        0.51092315, 0.51661378, 0.52230448, 0.52799517, 0.53368586,\n",
       "        0.53937656, 0.54506725, 0.55075794, 0.55644858, 0.56213927,\n",
       "        0.56782997, 0.57352066, 0.57921135, 0.58490205, 0.59059268,\n",
       "        0.59628338, 0.60197407, 0.60766476, 0.61335546, 0.61904615,\n",
       "        0.62473685, 0.63042748, 0.63611817, 0.64180887, 0.64749956,\n",
       "        0.65319026, 0.65888095, 0.66457164, 0.67026228, 0.67595297,\n",
       "        0.68164366, 0.68733436, 0.69302505, 0.69871575, 0.70440644,\n",
       "        0.71009707, 0.71578777, 0.72147846, 0.72716916, 0.73285985,\n",
       "        0.73855054, 0.74424124, 0.74993187, 0.75562257, 0.76131326,\n",
       "        0.76700395]),\n",
       " <BarContainer object of 100 artists>)"
      ]
     },
     "execution_count": 11,
     "metadata": {},
     "output_type": "execute_result"
    },
    {
     "data": {
      "image/png": "[encoded data removed]",
      "text/plain": [
       "<Figure size 640x480 with 1 Axes>"
      ]
     },
     "metadata": {},
     "output_type": "display_data"
    }
   ],
   "source": [
    "standardized_test_set = (test_set - mu) / sigma\n",
    "model.evaluate(standardized_test_set[columns], test_set['Direction'])\n",
    "os_prediction = model.predict(standardized_test_set[columns])\n",
    "plt.hist(os_prediction, bins=100)"
   ]
  },
  {
   "cell_type": "markdown",
   "metadata": {},
   "source": [
    "Our out-sample predictions on test set is also normally distributed about 0.5. "
   ]
  },
  {
   "cell_type": "markdown",
   "metadata": {},
   "source": [
    "### Save Model and Parameters"
   ]
  },
  {
   "cell_type": "code",
   "execution_count": 12,
   "metadata": {},
   "outputs": [
    {
     "name": "stdout",
     "output_type": "stream",
     "text": [
      "INFO:tensorflow:Assets written to: DNN_Save\\assets\n"
     ]
    },
    {
     "name": "stderr",
     "output_type": "stream",
     "text": [
      "INFO:tensorflow:Assets written to: DNN_Save\\assets\n"
     ]
    }
   ],
   "source": [
    "model.save('DNN_Save')"
   ]
  },
  {
   "cell_type": "code",
   "execution_count": 13,
   "metadata": {},
   "outputs": [],
   "source": [
    "parameters = {'mu': mu, 'sigma': sigma}\n",
    "pickle.dump(parameters, open('parameters.pkl', 'wb'))"
   ]
  }
 ],
 "metadata": {
  "kernelspec": {
   "display_name": ".venv",
   "language": "python",
   "name": "python3"
  },
  "language_info": {
   "codemirror_mode": {
    "name": "ipython",
    "version": 3
   },
   "file_extension": ".py",
   "mimetype": "text/x-python",
   "name": "python",
   "nbconvert_exporter": "python",
   "pygments_lexer": "ipython3",
   "version": "3.11.4"
  },
  "orig_nbformat": 4
 },
 "nbformat": 4,
 "nbformat_minor": 2
}
