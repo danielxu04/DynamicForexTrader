{
 "cells": [
  {
   "cell_type": "code",
   "execution_count": 4,
   "metadata": {},
   "outputs": [],
   "source": [
    "import pandas as pd\n",
    "import numpy as np\n",
    "from datetime import datetime, timedelta\n",
    "import datetime as dt\n",
    "from trading_strategies.SMACrossover import SMACrossover"
   ]
  },
  {
   "cell_type": "code",
   "execution_count": 5,
   "metadata": {},
   "outputs": [
    {
     "name": "stdout",
     "output_type": "stream",
     "text": [
      "--------------------------------------------------\n",
      "ATTEMPTING TO MERGE...\n",
      "REQUIRE UNDER 30 SECONDS\n",
      "Seconds: 11\n",
      "SUCCESSFULLY MERGED\n",
      "--------------------------------------------------\n",
      "1\n",
      "--------------------------------------------------\n",
      "2023-08-18T15:11:12.133295440Z | GOING SHORT\n",
      "2023-08-18T15:11:12.133295440Z | Units = -1000.0 | Price = 1.08749 | P&L = 0.0 | Cumulative P&L = 0.0\n",
      "--------------------------------------------------\n",
      "\n",
      "STAYING SHORT\n",
      "STAYING SHORT\n",
      "STAYING SHORT\n",
      "STAYING SHORT\n",
      "STAYING SHORT\n",
      "STAYING SHORT\n",
      "STAYING SHORT\n",
      "STAYING SHORT\n",
      "STAYING SHORT\n",
      "STAYING SHORT\n",
      "STAYING SHORT\n",
      "STAYING SHORT\n",
      "STAYING SHORT\n",
      "STAYING SHORT\n",
      "STAYING SHORT\n",
      "STAYING SHORT\n",
      "STAYING SHORT\n",
      "STAYING SHORT\n",
      "STAYING SHORT\n",
      "544\n",
      "--------------------------------------------------\n",
      "2023-08-18T15:21:07.266608994Z | GOING NEUTRAL\n",
      "2023-08-18T15:21:07.266608994Z | Units = 1000.0 | Price = 1.08803 | P&L = -1.5116 | Cumulative P&L = -1.5116\n",
      "--------------------------------------------------\n",
      "\n",
      "\n",
      "ENDING TRADING SESSION...\n",
      "Attempt: 1\n"
     ]
    }
   ],
   "source": [
    "trader = SMACrossover(\n",
    "    \"oanda.cfg\", \n",
    "    \"EUR_USD\", \n",
    "    bar_length='30s', \n",
    "    units=1000, \n",
    "    duration=10,\n",
    "    Slow_MA = 200,\n",
    "    Fast_MA = 50\n",
    ")"
   ]
  }
 ],
 "metadata": {
  "kernelspec": {
   "display_name": "Python 3",
   "language": "python",
   "name": "python3"
  },
  "language_info": {
   "codemirror_mode": {
    "name": "ipython",
    "version": 3
   },
   "file_extension": ".py",
   "mimetype": "text/x-python",
   "name": "python",
   "nbconvert_exporter": "python",
   "pygments_lexer": "ipython3",
   "version": "3.11.4"
  },
  "orig_nbformat": 4
 },
 "nbformat": 4,
 "nbformat_minor": 2
}
