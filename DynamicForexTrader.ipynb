{
 "cells": [
  {
   "cell_type": "code",
   "execution_count": 1,
   "metadata": {},
   "outputs": [],
   "source": [
    "import pandas as pd\n",
    "import numpy as np\n",
    "from datetime import datetime, timedelta\n",
    "import datetime as dt\n",
    "from trading_strategies.SMACrossover import SMACrossover"
   ]
  },
  {
   "cell_type": "code",
   "execution_count": 2,
   "metadata": {},
   "outputs": [
    {
     "name": "stdout",
     "output_type": "stream",
     "text": [
      "--------------------------------------------------\n",
      "ATTEMPTING TO MERGE...\n",
      "REQUIRE UNDER 60 SECONDS\n",
      "Seconds: 33\n",
      "SUCCESSFULLY MERGED\n",
      "--------------------------------------------------\n",
      "1\n",
      "--------------------------------------------------\n",
      "2023-08-18T14:55:34.099544858Z | GOING SHORT\n",
      "2023-08-18T14:55:34.099544858Z | Units = -100000.0 | Price = 1.08692 | P&L = 0.0 | Cumulative P&L = 0.0\n",
      "--------------------------------------------------\n",
      "\n",
      "STAYING SHORT\n",
      "STAYING SHORT\n",
      "STAYING SHORT\n",
      "STAYING SHORT\n",
      "STAYING SHORT\n",
      "STAYING SHORT\n",
      "STAYING SHORT\n",
      "STAYING SHORT\n",
      "STAYING SHORT\n",
      "640\n",
      "--------------------------------------------------\n",
      "2023-08-18T15:05:30.503996186Z | GOING NEUTRAL\n",
      "2023-08-18T15:05:30.503996186Z | Units = 100000.0 | Price = 1.08726 | P&L = -18.7492 | Cumulative P&L = -18.7492\n",
      "--------------------------------------------------\n",
      "\n",
      "\n",
      "ENDING TRADING SESSION...\n",
      "Attempt: 1\n"
     ]
    }
   ],
   "source": [
    "trader = SMACrossover(\n",
    "    \"oanda.cfg\", \n",
    "    \"EUR_USD\", \n",
    "    bar_length='30s', \n",
    "    units=1000, \n",
    "    duration=10,\n",
    "    Slow_MA = 200,\n",
    "    Fast_MA = 50\n",
    ")"
   ]
  }
 ],
 "metadata": {
  "kernelspec": {
   "display_name": "Python 3",
   "language": "python",
   "name": "python3"
  },
  "language_info": {
   "codemirror_mode": {
    "name": "ipython",
    "version": 3
   },
   "file_extension": ".py",
   "mimetype": "text/x-python",
   "name": "python",
   "nbconvert_exporter": "python",
   "pygments_lexer": "ipython3",
   "version": "3.11.4"
  },
  "orig_nbformat": 4
 },
 "nbformat": 4,
 "nbformat_minor": 2
}
